{
 "cells": [
  {
   "cell_type": "markdown",
   "id": "3411b1ab",
   "metadata": {},
   "source": [
    "### Analise API Clima"
   ]
  },
  {
   "cell_type": "code",
   "execution_count": 1,
   "id": "e2c6b6e8",
   "metadata": {},
   "outputs": [],
   "source": [
    "# Importando bibliotecas \n",
    "\n",
    "import json\n",
    "import pandas as pd\n",
    "import datetime as dt\n",
    "import requests "
   ]
  },
  {
   "cell_type": "code",
   "execution_count": 11,
   "id": "dbd40379",
   "metadata": {},
   "outputs": [
    {
     "name": "stdout",
     "output_type": "stream",
     "text": [
      "10:16\n"
     ]
    }
   ],
   "source": [
    "# Declarando variaveis\n",
    "\n",
    "q = 'Campinas,br'\n",
    "time = dt.datetime.now().strftime('%H:%M')\n",
    "key = 'c87391cc4746193b1ae303536f14f687'\n",
    "metric = 'metric'\n",
    "linguagem = 'pt'"
   ]
  },
  {
   "cell_type": "code",
   "execution_count": 14,
   "id": "1ede8ee9",
   "metadata": {},
   "outputs": [
    {
     "name": "stdout",
     "output_type": "stream",
     "text": [
      "200\n"
     ]
    }
   ],
   "source": [
    "# Verificando Status API\n",
    "\n",
    "url = 'https://api.openweathermap.org/data/2.5/weather?'\n",
    "url_relativa = f'q={q}&APPID={key}&lang={linguagem}&units={metric}'\n",
    "\n",
    "requisicao = requests.get(url+url_relativa)\n",
    "resposta = requisicao.status_code\n",
    "print(resposta)\n"
   ]
  },
  {
   "cell_type": "code",
   "execution_count": 15,
   "id": "1118cb14",
   "metadata": {},
   "outputs": [
    {
     "name": "stdout",
     "output_type": "stream",
     "text": [
      "{'coord': {'lon': -47.0608, 'lat': -22.9056}, 'weather': [{'id': 803, 'main': 'Clouds', 'description': 'nuvens quebradas', 'icon': '04d'}], 'base': 'stations', 'main': {'temp': 21.89, 'feels_like': 22.04, 'temp_min': 21.89, 'temp_max': 25.07, 'pressure': 1016, 'humidity': 73}, 'visibility': 10000, 'wind': {'speed': 1.03, 'deg': 0}, 'clouds': {'all': 75}, 'dt': 1664889111, 'sys': {'type': 1, 'id': 8393, 'country': 'BR', 'sunrise': 1664873150, 'sunset': 1664917673}, 'timezone': -10800, 'id': 3467865, 'name': 'Campinas', 'cod': 200}\n"
     ]
    }
   ],
   "source": [
    "# Convertendo para json\n",
    "\n",
    "resposta = requisicao.json()\n",
    "print(resposta)\n"
   ]
  },
  {
   "cell_type": "code",
   "execution_count": 16,
   "id": "efd6ed1f",
   "metadata": {},
   "outputs": [
    {
     "name": "stdout",
     "output_type": "stream",
     "text": [
      "dict_keys(['coord', 'weather', 'base', 'main', 'visibility', 'wind', 'clouds', 'dt', 'sys', 'timezone', 'id', 'name', 'cod'])\n"
     ]
    }
   ],
   "source": [
    "# Verificando chaves\n",
    "\n",
    "chaves = resposta.keys()\n",
    "print(chaves)\n",
    "\n"
   ]
  },
  {
   "cell_type": "code",
   "execution_count": 22,
   "id": "b1d1b6bf",
   "metadata": {},
   "outputs": [],
   "source": [
    "# coletando dados \n",
    "\n",
    "temperatura_max = resposta['main']['temp']\n",
    "temperatura_min = resposta['main']['temp_min']\n",
    "nuvens = resposta['clouds']\n",
    "visibilidade = resposta['visibility']\n",
    "data = dt.datetime.fromtimestamp(resposta['dt'])\n",
    "data = data.strftime(\"%d/%m/%Y\")\n",
    "cidade = resposta['name']\n",
    "\n",
    "for i in resposta['weather']:\n",
    "    chuva = i['description']"
   ]
  },
  {
   "cell_type": "code",
   "execution_count": 23,
   "id": "7351e220",
   "metadata": {},
   "outputs": [],
   "source": [
    "# Passando variaveis para dicionario\n",
    "\n",
    "dicionario = {'cidade': cidade,'Data': data,'Chuva':chuva,'Temperatura_max':temperatura_max,'Temperatura_min':temperatura_min,'Nuvens':nuvens,\n",
    "              'Visibilidade':visibilidade}"
   ]
  },
  {
   "cell_type": "code",
   "execution_count": 24,
   "id": "b25af54e",
   "metadata": {},
   "outputs": [],
   "source": [
    "# Passando dados para dataframe \n",
    "\n",
    "df_clima = pd.DataFrame(dicionario)\n",
    "\n",
    "# Salvando local\n",
    "file_name = r'C:\\Users\\Rodrigo Correa\\projects\\Projeto-API-Clima\\clima.xlsx'\n",
    "Arq_clima = df_clima.to_excel(file_name,sheet_name='inf_clima',header=True, index=False)"
   ]
  },
  {
   "cell_type": "code",
   "execution_count": 25,
   "id": "456e334b",
   "metadata": {},
   "outputs": [
    {
     "data": {
      "text/html": [
       "<div>\n",
       "<style scoped>\n",
       "    .dataframe tbody tr th:only-of-type {\n",
       "        vertical-align: middle;\n",
       "    }\n",
       "\n",
       "    .dataframe tbody tr th {\n",
       "        vertical-align: top;\n",
       "    }\n",
       "\n",
       "    .dataframe thead th {\n",
       "        text-align: right;\n",
       "    }\n",
       "</style>\n",
       "<table border=\"1\" class=\"dataframe\">\n",
       "  <thead>\n",
       "    <tr style=\"text-align: right;\">\n",
       "      <th></th>\n",
       "      <th>cidade</th>\n",
       "      <th>Data</th>\n",
       "      <th>Chuva</th>\n",
       "      <th>Temperatura_max</th>\n",
       "      <th>Temperatura_min</th>\n",
       "      <th>Nuvens</th>\n",
       "      <th>Visibilidade</th>\n",
       "    </tr>\n",
       "  </thead>\n",
       "  <tbody>\n",
       "    <tr>\n",
       "      <th>all</th>\n",
       "      <td>Campinas</td>\n",
       "      <td>04/10/2022</td>\n",
       "      <td>nuvens quebradas</td>\n",
       "      <td>21.89</td>\n",
       "      <td>21.89</td>\n",
       "      <td>75</td>\n",
       "      <td>10000</td>\n",
       "    </tr>\n",
       "  </tbody>\n",
       "</table>\n",
       "</div>"
      ],
      "text/plain": [
       "       cidade        Data             Chuva  Temperatura_max  Temperatura_min  \\\n",
       "all  Campinas  04/10/2022  nuvens quebradas            21.89            21.89   \n",
       "\n",
       "     Nuvens  Visibilidade  \n",
       "all      75         10000  "
      ]
     },
     "execution_count": 25,
     "metadata": {},
     "output_type": "execute_result"
    }
   ],
   "source": [
    "# Visualizando dataframe\n",
    "\n",
    "df_clima.head()"
   ]
  },
  {
   "cell_type": "markdown",
   "id": "0c286bec",
   "metadata": {},
   "source": [
    "### API De poluição"
   ]
  },
  {
   "cell_type": "code",
   "execution_count": 115,
   "id": "6a1aa848",
   "metadata": {},
   "outputs": [],
   "source": [
    "# Declarando variaveis\n",
    "\n",
    "lat = '-22.532'\n",
    "lon = '-47.044'\n",
    "start = '1664211256'\n",
    "end = '1664211256'"
   ]
  },
  {
   "cell_type": "code",
   "execution_count": 116,
   "id": "3118f64a",
   "metadata": {},
   "outputs": [
    {
     "name": "stdout",
     "output_type": "stream",
     "text": [
      "200\n"
     ]
    }
   ],
   "source": [
    "# Verificando status API\n",
    "\n",
    "url_poluicao = 'http://api.openweathermap.org/data/2.5/air_pollution/forecast?'\n",
    "url_poluicao_relativa = f'lat={lat}&lon={lon}&start={start}&end={end}&appid={key}'\n",
    "\n",
    "requisicao = requests.get(url_poluicao+url_poluicao_relativa)\n",
    "status = requisicao.status_code\n",
    "print(status)"
   ]
  },
  {
   "cell_type": "code",
   "execution_count": 117,
   "id": "ffaf39aa",
   "metadata": {},
   "outputs": [
    {
     "name": "stdout",
     "output_type": "stream",
     "text": [
      "{'coord': {'lon': -47.044, 'lat': -22.532}, 'list': [{'main': {'aqi': 3}, 'components': {'co': 494, 'no': 0.07, 'no2': 4.46, 'o3': 128.75, 'so2': 4.71, 'pm2_5': 20.63, 'pm10': 26.14, 'nh3': 1.98}, 'dt': 1664910000}, {'main': {'aqi': 4}, 'components': {'co': 540.73, 'no': 0.08, 'no2': 5.57, 'o3': 155.93, 'so2': 5.78, 'pm2_5': 28.88, 'pm10': 35.68, 'nh3': 2.57}, 'dt': 1664913600}, {'main': {'aqi': 4}, 'components': {'co': 594.14, 'no': 0.02, 'no2': 9.85, 'o3': 155.93, 'so2': 7.99, 'pm2_5': 33.15, 'pm10': 40.98, 'nh3': 2.72}, 'dt': 1664917200}, {'main': {'aqi': 4}, 'components': {'co': 580.79, 'no': 0, 'no2': 15.42, 'o3': 114.44, 'so2': 7.33, 'pm2_5': 28.19, 'pm10': 36.16, 'nh3': 2.47}, 'dt': 1664920800}, {'main': {'aqi': 2}, 'components': {'co': 487.33, 'no': 0, 'no2': 16.11, 'o3': 67.23, 'so2': 4.83, 'pm2_5': 17.18, 'pm10': 25.12, 'nh3': 2.28}, 'dt': 1664924400}, {'main': {'aqi': 1}, 'components': {'co': 380.52, 'no': 0, 'no2': 13.02, 'o3': 38.62, 'so2': 3.01, 'pm2_5': 8.68, 'pm10': 17.19, 'nh3': 2.12}, 'dt': 1664928000}, {'main': {'aqi': 1}, 'components': {'co': 317.1, 'no': 0, 'no2': 10.37, 'o3': 27.18, 'so2': 2, 'pm2_5': 5.32, 'pm10': 14.19, 'nh3': 1.73}, 'dt': 1664931600}, {'main': {'aqi': 1}, 'components': {'co': 290.39, 'no': 0, 'no2': 9, 'o3': 22.17, 'so2': 1.31, 'pm2_5': 4.52, 'pm10': 12.96, 'nh3': 1.36}, 'dt': 1664935200}, {'main': {'aqi': 1}, 'components': {'co': 280.38, 'no': 0, 'no2': 8.14, 'o3': 19.49, 'so2': 0.92, 'pm2_5': 4.2, 'pm10': 11.72, 'nh3': 1.24}, 'dt': 1664938800}, {'main': {'aqi': 1}, 'components': {'co': 283.72, 'no': 0.01, 'no2': 7.71, 'o3': 17.52, 'so2': 0.75, 'pm2_5': 4.38, 'pm10': 11.23, 'nh3': 1.19}, 'dt': 1664942400}, {'main': {'aqi': 1}, 'components': {'co': 293.73, 'no': 0.01, 'no2': 7.63, 'o3': 15.38, 'so2': 0.61, 'pm2_5': 4.84, 'pm10': 11.37, 'nh3': 1.17}, 'dt': 1664946000}, {'main': {'aqi': 1}, 'components': {'co': 303.75, 'no': 0.02, 'no2': 7.45, 'o3': 13.41, 'so2': 0.51, 'pm2_5': 5.36, 'pm10': 11.21, 'nh3': 1.19}, 'dt': 1664949600}, {'main': {'aqi': 1}, 'components': {'co': 310.42, 'no': 0.02, 'no2': 7.37, 'o3': 11.44, 'so2': 0.44, 'pm2_5': 5.81, 'pm10': 11.36, 'nh3': 1.22}, 'dt': 1664953200}, {'main': {'aqi': 1}, 'components': {'co': 313.76, 'no': 0.04, 'no2': 7.37, 'o3': 9.84, 'so2': 0.41, 'pm2_5': 6.22, 'pm10': 11.59, 'nh3': 1.25}, 'dt': 1664956800}, {'main': {'aqi': 1}, 'components': {'co': 317.1, 'no': 0.07, 'no2': 7.54, 'o3': 8.32, 'so2': 0.4, 'pm2_5': 6.61, 'pm10': 11.87, 'nh3': 1.27}, 'dt': 1664960400}, {'main': {'aqi': 1}, 'components': {'co': 323.77, 'no': 1.29, 'no2': 6.34, 'o3': 8.58, 'so2': 0.4, 'pm2_5': 6.87, 'pm10': 12.35, 'nh3': 1.27}, 'dt': 1664964000}, {'main': {'aqi': 1}, 'components': {'co': 333.79, 'no': 2.91, 'no2': 4.5, 'o3': 16.09, 'so2': 0.43, 'pm2_5': 7.18, 'pm10': 13.37, 'nh3': 1.28}, 'dt': 1664967600}, {'main': {'aqi': 1}, 'components': {'co': 343.8, 'no': 1.87, 'no2': 4.67, 'o3': 40.05, 'so2': 0.46, 'pm2_5': 8.39, 'pm10': 15.17, 'nh3': 1.5}, 'dt': 1664971200}, {'main': {'aqi': 2}, 'components': {'co': 420.57, 'no': 0.28, 'no2': 1.71, 'o3': 80.82, 'so2': 1.43, 'pm2_5': 10.84, 'pm10': 15.43, 'nh3': 1.49}, 'dt': 1664974800}, {'main': {'aqi': 2}, 'components': {'co': 467.3, 'no': 0.13, 'no2': 1.1, 'o3': 95.84, 'so2': 1.33, 'pm2_5': 13.61, 'pm10': 17.2, 'nh3': 1.33}, 'dt': 1664978400}, {'main': {'aqi': 2}, 'components': {'co': 480.65, 'no': 0.11, 'no2': 1.1, 'o3': 107.29, 'so2': 1.06, 'pm2_5': 15.24, 'pm10': 18.72, 'nh3': 1.25}, 'dt': 1664982000}, {'main': {'aqi': 2}, 'components': {'co': 480.65, 'no': 0.11, 'no2': 1.19, 'o3': 115.87, 'so2': 0.82, 'pm2_5': 16.17, 'pm10': 19.77, 'nh3': 1.14}, 'dt': 1664985600}, {'main': {'aqi': 3}, 'components': {'co': 467.3, 'no': 0.12, 'no2': 1.25, 'o3': 124.45, 'so2': 1.06, 'pm2_5': 16.8, 'pm10': 20.65, 'nh3': 1.06}, 'dt': 1664989200}, {'main': {'aqi': 3}, 'components': {'co': 453.95, 'no': 0.13, 'no2': 1.41, 'o3': 137.33, 'so2': 1.8, 'pm2_5': 18.37, 'pm10': 22.67, 'nh3': 1.12}, 'dt': 1664992800}, {'main': {'aqi': 3}, 'components': {'co': 473.98, 'no': 0.21, 'no2': 2.59, 'o3': 148.77, 'so2': 2.8, 'pm2_5': 23.38, 'pm10': 29.06, 'nh3': 1.65}, 'dt': 1664996400}, {'main': {'aqi': 4}, 'components': {'co': 514.03, 'no': 0.25, 'no2': 5.31, 'o3': 157.36, 'so2': 3.7, 'pm2_5': 31.1, 'pm10': 39.19, 'nh3': 2.47}, 'dt': 1665000000}, {'main': {'aqi': 4}, 'components': {'co': 567.44, 'no': 0.08, 'no2': 10.71, 'o3': 154.5, 'so2': 5.25, 'pm2_5': 36.57, 'pm10': 47.27, 'nh3': 3.48}, 'dt': 1665003600}, {'main': {'aqi': 4}, 'components': {'co': 614.17, 'no': 0, 'no2': 16.45, 'o3': 141.62, 'so2': 7.45, 'pm2_5': 37.54, 'pm10': 50.38, 'nh3': 4.75}, 'dt': 1665007200}, {'main': {'aqi': 4}, 'components': {'co': 694.28, 'no': 0, 'no2': 18.17, 'o3': 131.61, 'so2': 10.85, 'pm2_5': 41.81, 'pm10': 58.47, 'nh3': 6.02}, 'dt': 1665010800}, {'main': {'aqi': 4}, 'components': {'co': 627.52, 'no': 0, 'no2': 19.88, 'o3': 83.69, 'so2': 10.13, 'pm2_5': 31.02, 'pm10': 48.62, 'nh3': 5}, 'dt': 1665014400}, {'main': {'aqi': 2}, 'components': {'co': 390.53, 'no': 0, 'no2': 13.37, 'o3': 41.84, 'so2': 3.79, 'pm2_5': 9.35, 'pm10': 20.13, 'nh3': 2.44}, 'dt': 1665018000}, {'main': {'aqi': 1}, 'components': {'co': 307.08, 'no': 0, 'no2': 8.74, 'o3': 30.76, 'so2': 1.31, 'pm2_5': 4.19, 'pm10': 10.95, 'nh3': 1.38}, 'dt': 1665021600}, {'main': {'aqi': 1}, 'components': {'co': 297.07, 'no': 0, 'no2': 8.05, 'o3': 26.11, 'so2': 0.78, 'pm2_5': 3.53, 'pm10': 8.91, 'nh3': 1.14}, 'dt': 1665025200}, {'main': {'aqi': 1}, 'components': {'co': 303.75, 'no': 0, 'no2': 8.14, 'o3': 22.89, 'so2': 0.6, 'pm2_5': 3.99, 'pm10': 9.03, 'nh3': 1.11}, 'dt': 1665028800}, {'main': {'aqi': 1}, 'components': {'co': 327.11, 'no': 0, 'no2': 7.97, 'o3': 21.46, 'so2': 0.51, 'pm2_5': 5.25, 'pm10': 9.91, 'nh3': 1.08}, 'dt': 1665032400}, {'main': {'aqi': 1}, 'components': {'co': 383.85, 'no': 0, 'no2': 7.8, 'o3': 23.25, 'so2': 0.81, 'pm2_5': 7.94, 'pm10': 11.98, 'nh3': 1.16}, 'dt': 1665036000}, {'main': {'aqi': 2}, 'components': {'co': 453.95, 'no': 0, 'no2': 7.8, 'o3': 27.9, 'so2': 1.37, 'pm2_5': 10.91, 'pm10': 14.58, 'nh3': 1.25}, 'dt': 1665039600}, {'main': {'aqi': 2}, 'components': {'co': 507.36, 'no': 0, 'no2': 8.48, 'o3': 28.61, 'so2': 1.74, 'pm2_5': 12.52, 'pm10': 16.04, 'nh3': 1.22}, 'dt': 1665043200}, {'main': {'aqi': 2}, 'components': {'co': 520.71, 'no': 0, 'no2': 9.51, 'o3': 23.96, 'so2': 1.89, 'pm2_5': 12.42, 'pm10': 15.75, 'nh3': 1.2}, 'dt': 1665046800}, {'main': {'aqi': 2}, 'components': {'co': 494, 'no': 0.32, 'no2': 10.28, 'o3': 19.13, 'so2': 2.12, 'pm2_5': 10.4, 'pm10': 13.52, 'nh3': 1.3}, 'dt': 1665050400}, {'main': {'aqi': 1}, 'components': {'co': 460.63, 'no': 1.43, 'no2': 9.43, 'o3': 23.6, 'so2': 2.21, 'pm2_5': 9.09, 'pm10': 12.27, 'nh3': 1.58}, 'dt': 1665054000}, {'main': {'aqi': 1}, 'components': {'co': 440.6, 'no': 1.31, 'no2': 7.28, 'o3': 45.06, 'so2': 2.06, 'pm2_5': 9.12, 'pm10': 12.11, 'nh3': 1.71}, 'dt': 1665057600}, {'main': {'aqi': 1}, 'components': {'co': 380.52, 'no': 0.36, 'no2': 2.49, 'o3': 68.67, 'so2': 1.48, 'pm2_5': 6.3, 'pm10': 7.95, 'nh3': 1.11}, 'dt': 1665061200}, {'main': {'aqi': 1}, 'components': {'co': 363.83, 'no': 0.2, 'no2': 1.41, 'o3': 73.67, 'so2': 0.89, 'pm2_5': 4.8, 'pm10': 5.98, 'nh3': 1}, 'dt': 1665064800}, {'main': {'aqi': 1}, 'components': {'co': 353.81, 'no': 0.16, 'no2': 1.06, 'o3': 72.96, 'so2': 0.51, 'pm2_5': 3.5, 'pm10': 4.38, 'nh3': 0.94}, 'dt': 1665068400}, {'main': {'aqi': 1}, 'components': {'co': 350.48, 'no': 0.03, 'no2': 1.41, 'o3': 58.65, 'so2': 0.34, 'pm2_5': 2.29, 'pm10': 2.85, 'nh3': 0.94}, 'dt': 1665072000}, {'main': {'aqi': 1}, 'components': {'co': 350.48, 'no': 0.01, 'no2': 1.84, 'o3': 45.42, 'so2': 0.33, 'pm2_5': 1.7, 'pm10': 2.08, 'nh3': 0.93}, 'dt': 1665075600}, {'main': {'aqi': 1}, 'components': {'co': 357.15, 'no': 0.01, 'no2': 2.14, 'o3': 39.7, 'so2': 0.32, 'pm2_5': 1.57, 'pm10': 1.89, 'nh3': 0.82}, 'dt': 1665079200}, {'main': {'aqi': 1}, 'components': {'co': 380.52, 'no': 0.02, 'no2': 2.79, 'o3': 37.19, 'so2': 0.34, 'pm2_5': 2.1, 'pm10': 2.52, 'nh3': 0.93}, 'dt': 1665082800}, {'main': {'aqi': 1}, 'components': {'co': 417.23, 'no': 0.03, 'no2': 4.5, 'o3': 33.98, 'so2': 0.55, 'pm2_5': 3.38, 'pm10': 4.03, 'nh3': 1.2}, 'dt': 1665086400}, {'main': {'aqi': 1}, 'components': {'co': 473.98, 'no': 0.02, 'no2': 7.71, 'o3': 28.61, 'so2': 0.98, 'pm2_5': 5.29, 'pm10': 6.18, 'nh3': 1.36}, 'dt': 1665090000}, {'main': {'aqi': 1}, 'components': {'co': 500.68, 'no': 0, 'no2': 9.68, 'o3': 23.6, 'so2': 1.18, 'pm2_5': 6.56, 'pm10': 7.78, 'nh3': 1.31}, 'dt': 1665093600}, {'main': {'aqi': 1}, 'components': {'co': 514.03, 'no': 0, 'no2': 9.08, 'o3': 20.03, 'so2': 0.81, 'pm2_5': 7.04, 'pm10': 8.38, 'nh3': 1.03}, 'dt': 1665097200}, {'main': {'aqi': 1}, 'components': {'co': 520.71, 'no': 0.01, 'no2': 8.57, 'o3': 16.81, 'so2': 0.46, 'pm2_5': 7.45, 'pm10': 8.7, 'nh3': 0.77}, 'dt': 1665100800}, {'main': {'aqi': 1}, 'components': {'co': 547.41, 'no': 0.01, 'no2': 9.94, 'o3': 14.13, 'so2': 0.44, 'pm2_5': 8.93, 'pm10': 10.21, 'nh3': 0.71}, 'dt': 1665104400}, {'main': {'aqi': 2}, 'components': {'co': 567.44, 'no': 0, 'no2': 10.97, 'o3': 12.88, 'so2': 0.48, 'pm2_5': 10.55, 'pm10': 12.06, 'nh3': 0.72}, 'dt': 1665108000}, {'main': {'aqi': 2}, 'components': {'co': 554.09, 'no': 0, 'no2': 9.43, 'o3': 12.34, 'so2': 0.37, 'pm2_5': 10.19, 'pm10': 11.47, 'nh3': 0.67}, 'dt': 1665111600}, {'main': {'aqi': 1}, 'components': {'co': 534.06, 'no': 0, 'no2': 8.05, 'o3': 12.34, 'so2': 0.33, 'pm2_5': 9.03, 'pm10': 9.91, 'nh3': 0.62}, 'dt': 1665115200}, {'main': {'aqi': 1}, 'components': {'co': 534.06, 'no': 0, 'no2': 7.63, 'o3': 11.44, 'so2': 0.31, 'pm2_5': 8.74, 'pm10': 9.59, 'nh3': 0.62}, 'dt': 1665118800}, {'main': {'aqi': 1}, 'components': {'co': 540.73, 'no': 0, 'no2': 7.2, 'o3': 11.62, 'so2': 0.29, 'pm2_5': 8.57, 'pm10': 9.58, 'nh3': 0.62}, 'dt': 1665122400}, {'main': {'aqi': 1}, 'components': {'co': 547.41, 'no': 0, 'no2': 7.28, 'o3': 12.52, 'so2': 0.4, 'pm2_5': 8.76, 'pm10': 9.93, 'nh3': 0.61}, 'dt': 1665126000}, {'main': {'aqi': 1}, 'components': {'co': 560.76, 'no': 0, 'no2': 7.71, 'o3': 13.59, 'so2': 0.62, 'pm2_5': 9.3, 'pm10': 10.32, 'nh3': 0.57}, 'dt': 1665129600}, {'main': {'aqi': 1}, 'components': {'co': 560.76, 'no': 0, 'no2': 7.71, 'o3': 14.84, 'so2': 0.74, 'pm2_5': 9.42, 'pm10': 10.14, 'nh3': 0.52}, 'dt': 1665133200}, {'main': {'aqi': 1}, 'components': {'co': 567.44, 'no': 0.04, 'no2': 7.63, 'o3': 15.91, 'so2': 0.75, 'pm2_5': 9.38, 'pm10': 9.89, 'nh3': 0.47}, 'dt': 1665136800}, {'main': {'aqi': 2}, 'components': {'co': 600.82, 'no': 0.22, 'no2': 8.31, 'o3': 16.45, 'so2': 0.88, 'pm2_5': 10.19, 'pm10': 10.64, 'nh3': 0.49}, 'dt': 1665140400}, {'main': {'aqi': 2}, 'components': {'co': 614.17, 'no': 0.36, 'no2': 8.23, 'o3': 18.6, 'so2': 1.16, 'pm2_5': 10.13, 'pm10': 10.55, 'nh3': 0.52}, 'dt': 1665144000}, {'main': {'aqi': 1}, 'components': {'co': 594.14, 'no': 0.33, 'no2': 6.43, 'o3': 25.03, 'so2': 1.45, 'pm2_5': 8.41, 'pm10': 8.89, 'nh3': 0.6}, 'dt': 1665147600}, {'main': {'aqi': 1}, 'components': {'co': 587.46, 'no': 0.24, 'no2': 4.28, 'o3': 33.98, 'so2': 1.74, 'pm2_5': 6.35, 'pm10': 6.88, 'nh3': 0.76}, 'dt': 1665151200}, {'main': {'aqi': 1}, 'components': {'co': 580.79, 'no': 0.19, 'no2': 2.87, 'o3': 46.49, 'so2': 2.3, 'pm2_5': 4.74, 'pm10': 5.3, 'nh3': 0.9}, 'dt': 1665154800}, {'main': {'aqi': 1}, 'components': {'co': 527.38, 'no': 0.19, 'no2': 1.56, 'o3': 65.09, 'so2': 2.15, 'pm2_5': 3.87, 'pm10': 4.39, 'nh3': 0.91}, 'dt': 1665158400}, {'main': {'aqi': 1}, 'components': {'co': 487.33, 'no': 0.16, 'no2': 1.39, 'o3': 75.82, 'so2': 1.8, 'pm2_5': 3.89, 'pm10': 4.43, 'nh3': 0.95}, 'dt': 1665162000}, {'main': {'aqi': 2}, 'components': {'co': 453.95, 'no': 0.16, 'no2': 1.54, 'o3': 83.69, 'so2': 1.68, 'pm2_5': 4.29, 'pm10': 4.88, 'nh3': 1.05}, 'dt': 1665165600}, {'main': {'aqi': 2}, 'components': {'co': 494, 'no': 0.63, 'no2': 4.2, 'o3': 85.83, 'so2': 2.09, 'pm2_5': 8.55, 'pm10': 9.65, 'nh3': 1.9}, 'dt': 1665169200}, {'main': {'aqi': 2}, 'components': {'co': 620.84, 'no': 1.36, 'no2': 11.65, 'o3': 82.97, 'so2': 3.16, 'pm2_5': 17.76, 'pm10': 19.67, 'nh3': 3.17}, 'dt': 1665172800}, {'main': {'aqi': 3}, 'components': {'co': 747.68, 'no': 0.8, 'no2': 22.28, 'o3': 60.8, 'so2': 3.58, 'pm2_5': 24.71, 'pm10': 27.41, 'nh3': 4.31}, 'dt': 1665176400}, {'main': {'aqi': 4}, 'components': {'co': 827.79, 'no': 0, 'no2': 29.47, 'o3': 38.27, 'so2': 3.37, 'pm2_5': 28.85, 'pm10': 32.49, 'nh3': 5.19}, 'dt': 1665180000}, {'main': {'aqi': 4}, 'components': {'co': 894.55, 'no': 0, 'no2': 33.24, 'o3': 25.39, 'so2': 3.25, 'pm2_5': 32.69, 'pm10': 37.1, 'nh3': 5.64}, 'dt': 1665183600}, {'main': {'aqi': 4}, 'components': {'co': 934.6, 'no': 0.02, 'no2': 35.64, 'o3': 17.7, 'so2': 3.25, 'pm2_5': 35.88, 'pm10': 40.66, 'nh3': 5.57}, 'dt': 1665187200}, {'main': {'aqi': 4}, 'components': {'co': 934.6, 'no': 0.07, 'no2': 33.93, 'o3': 13.59, 'so2': 2.89, 'pm2_5': 37.67, 'pm10': 42.82, 'nh3': 5.19}, 'dt': 1665190800}, {'main': {'aqi': 4}, 'components': {'co': 907.9, 'no': 0.17, 'no2': 30.5, 'o3': 10.01, 'so2': 2.33, 'pm2_5': 39.28, 'pm10': 45.2, 'nh3': 4.94}, 'dt': 1665194400}, {'main': {'aqi': 4}, 'components': {'co': 881.2, 'no': 0.31, 'no2': 27.08, 'o3': 6.97, 'so2': 1.79, 'pm2_5': 40.6, 'pm10': 47.63, 'nh3': 4.75}, 'dt': 1665198000}, {'main': {'aqi': 4}, 'components': {'co': 921.25, 'no': 1.16, 'no2': 25.02, 'o3': 2.53, 'so2': 1.33, 'pm2_5': 45.78, 'pm10': 54.03, 'nh3': 4.5}, 'dt': 1665201600}, {'main': {'aqi': 5}, 'components': {'co': 974.66, 'no': 3.35, 'no2': 21.25, 'o3': 0.24, 'so2': 0.95, 'pm2_5': 53.22, 'pm10': 62.63, 'nh3': 4.31}, 'dt': 1665205200}, {'main': {'aqi': 5}, 'components': {'co': 1001.36, 'no': 6.15, 'no2': 17.65, 'o3': 0.06, 'so2': 0.85, 'pm2_5': 57.85, 'pm10': 68.67, 'nh3': 5.07}, 'dt': 1665208800}]}\n"
     ]
    }
   ],
   "source": [
    "# Convertendo para json\n",
    "\n",
    "resposta_poluicao = requisicao.json()\n",
    "print(resposta_poluicao)"
   ]
  },
  {
   "cell_type": "code",
   "execution_count": 118,
   "id": "711391eb",
   "metadata": {
    "scrolled": false
   },
   "outputs": [
    {
     "name": "stdout",
     "output_type": "stream",
     "text": [
      "dict_keys(['coord', 'list'])\n"
     ]
    }
   ],
   "source": [
    "# Verificando chaves\n",
    "\n",
    "print(resposta_poluicao.keys())"
   ]
  },
  {
   "cell_type": "code",
   "execution_count": 119,
   "id": "3251cf5d",
   "metadata": {
    "scrolled": true
   },
   "outputs": [
    {
     "name": "stdout",
     "output_type": "stream",
     "text": [
      "lista de datas poluicao:['04/10/2022', '04/10/2022', '04/10/2022', '04/10/2022', '04/10/2022', '04/10/2022', '04/10/2022', '04/10/2022', '05/10/2022', '05/10/2022', '05/10/2022', '05/10/2022', '05/10/2022', '05/10/2022', '05/10/2022', '05/10/2022', '05/10/2022', '05/10/2022', '05/10/2022', '05/10/2022', '05/10/2022', '05/10/2022', '05/10/2022', '05/10/2022', '05/10/2022', '05/10/2022', '05/10/2022', '05/10/2022', '05/10/2022', '05/10/2022', '05/10/2022', '05/10/2022', '06/10/2022', '06/10/2022', '06/10/2022', '06/10/2022', '06/10/2022', '06/10/2022', '06/10/2022', '06/10/2022', '06/10/2022', '06/10/2022', '06/10/2022', '06/10/2022', '06/10/2022', '06/10/2022', '06/10/2022', '06/10/2022', '06/10/2022', '06/10/2022', '06/10/2022', '06/10/2022', '06/10/2022', '06/10/2022', '06/10/2022', '06/10/2022', '07/10/2022', '07/10/2022', '07/10/2022', '07/10/2022', '07/10/2022', '07/10/2022', '07/10/2022', '07/10/2022', '07/10/2022', '07/10/2022', '07/10/2022', '07/10/2022', '07/10/2022', '07/10/2022', '07/10/2022', '07/10/2022', '07/10/2022', '07/10/2022', '07/10/2022', '07/10/2022', '07/10/2022', '07/10/2022', '07/10/2022', '07/10/2022', '08/10/2022', '08/10/2022', '08/10/2022', '08/10/2022']\n",
      "\n",
      "\n",
      "data clima:04/10/2022\n",
      "data clima original:1664912538\n"
     ]
    }
   ],
   "source": [
    "# capturando data do json poluicao \n",
    "\n",
    "lista_poluicao_dt = []\n",
    "\n",
    "for itens in resposta_poluicao['list']:\n",
    "    data_poluicao = dt.datetime.fromtimestamp(itens['dt'])\n",
    "    data_poluicao = data_poluicao.strftime(\"%d/%m/%Y\")\n",
    "    lista_poluicao_dt.append(data_poluicao)\n",
    "\n",
    "print(f'lista de datas poluicao:{lista_poluicao_dt}')\n",
    "\n",
    "print('')\n",
    "print('')\n",
    "\n",
    "# capturo data do json clima \n",
    "\n",
    "requisicao = requests.get(url+url_relativa)\n",
    "resposta = requisicao.json()\n",
    "data_clima = dt.datetime.fromtimestamp(resposta['dt'])\n",
    "data_clima = data_clima.strftime(\"%d/%m/%Y\")\n",
    "data_original = resposta['dt']\n",
    "\n",
    "print(f'data clima:{data_clima}')\n",
    "print(f'data clima original:{data_original}')\n"
   ]
  },
  {
   "cell_type": "code",
   "execution_count": 120,
   "id": "d2200e3b",
   "metadata": {},
   "outputs": [],
   "source": [
    "dicionario_poluicao = {'data':[],'monoxido_de_carbono':[],'nitrogenio_monoxido':[],\n",
    "                       'Amonia':[],'ozonio':[]}"
   ]
  },
  {
   "cell_type": "code",
   "execution_count": 121,
   "id": "64c9d538",
   "metadata": {
    "scrolled": false
   },
   "outputs": [
    {
     "name": "stdout",
     "output_type": "stream",
     "text": [
      "{'data': ['04/10/2022 - 16:00:00', '04/10/2022 - 17:00:00', '04/10/2022 - 18:00:00', '04/10/2022 - 19:00:00', '04/10/2022 - 20:00:00', '04/10/2022 - 21:00:00', '04/10/2022 - 22:00:00', '04/10/2022 - 23:00:00'], 'monoxido_de_carbono': [494, 540.73, 594.14, 580.79, 487.33, 380.52, 317.1, 290.39], 'nitrogenio_monoxido': [4.46, 5.57, 9.85, 15.42, 16.11, 13.02, 10.37, 9], 'Amonia': [128.75, 155.93, 155.93, 114.44, 67.23, 38.62, 27.18, 22.17], 'ozonio': [1.98, 2.57, 2.72, 2.47, 2.28, 2.12, 1.73, 1.36]}\n"
     ]
    }
   ],
   "source": [
    "# Capturando dados\n",
    "\n",
    "parametro_data_poluicao = []\n",
    "\n",
    "for i in resposta_poluicao['list']:\n",
    "    data_poluicao = (i['dt'])\n",
    "    data_poluicao = dt.datetime.fromtimestamp(data_poluicao)\n",
    "    data_poluicao = data_poluicao.strftime(\"%d/%m/%Y\")\n",
    "    if (data_poluicao == data_clima):\n",
    "        parametro_data_poluicao.append(data_poluicao)\n",
    "        break\n",
    "\n",
    "\n",
    "# Captura a data de hoje da poluicao e compara com a data do clima \n",
    "\n",
    "for itens in resposta_poluicao['list']:\n",
    "    data_poluicao = (itens['dt'])\n",
    "    data_poluicao = dt.datetime.fromtimestamp(data_poluicao)\n",
    "    data_poluicao = data_poluicao.strftime(\"%d/%m/%Y\")\n",
    "    if (data_poluicao == data_clima):\n",
    "        CO2 = itens['components']['co']\n",
    "        no2 = itens['components']['no2']\n",
    "        o3  = itens['components']['o3']\n",
    "        nh3 = itens['components']['nh3']\n",
    "        data_poluicao_hora = (itens['dt'])\n",
    "        data_poluicao_hora = dt.datetime.fromtimestamp(data_poluicao_hora)\n",
    "        data_poluicao_hora = data_poluicao_hora.strftime(\"%d/%m/%Y - %H:%M:%S\")\n",
    "        dicionario_poluicao['data'].append(data_poluicao_hora)\n",
    "        dicionario_poluicao['monoxido_de_carbono'].append(CO2)\n",
    "        dicionario_poluicao['nitrogenio_monoxido'].append(no2)\n",
    "        dicionario_poluicao['Amonia'].append(o3)\n",
    "        dicionario_poluicao['ozonio'].append(nh3)\n",
    "\n",
    "    else:\n",
    "        continue \n",
    "        \n",
    "#print(str(data_poluicao_hora)+' '+data_clima)\n",
    "print(dicionario_poluicao)"
   ]
  },
  {
   "cell_type": "code",
   "execution_count": 122,
   "id": "b253de17",
   "metadata": {},
   "outputs": [
    {
     "name": "stdout",
     "output_type": "stream",
     "text": [
      "{'data': ['04/10/2022 - 16:00:00', '04/10/2022 - 17:00:00', '04/10/2022 - 18:00:00', '04/10/2022 - 19:00:00', '04/10/2022 - 20:00:00', '04/10/2022 - 21:00:00', '04/10/2022 - 22:00:00', '04/10/2022 - 23:00:00'], 'monoxido_de_carbono': [494, 540.73, 594.14, 580.79, 487.33, 380.52, 317.1, 290.39], 'nitrogenio_monoxido': [4.46, 5.57, 9.85, 15.42, 16.11, 13.02, 10.37, 9], 'Amonia': [128.75, 155.93, 155.93, 114.44, 67.23, 38.62, 27.18, 22.17], 'ozonio': [1.98, 2.57, 2.72, 2.47, 2.28, 2.12, 1.73, 1.36]}\n"
     ]
    }
   ],
   "source": [
    " print(dicionario_poluicao)"
   ]
  },
  {
   "cell_type": "code",
   "execution_count": 131,
   "id": "6e615feb",
   "metadata": {},
   "outputs": [],
   "source": [
    "# Passando para dataframe\n",
    "\n",
    "df_poluicao = pd.DataFrame(dicionario_poluicao['data'])\n",
    "df_poluicao['monoxido_de_carbono'] = dicionario_poluicao['monoxido_de_carbono']\n",
    "df_poluicao['nitrogenio_monoxido'] = dicionario_poluicao['nitrogenio_monoxido']\n",
    "df_poluicao['Amonia'] = dicionario_poluicao['Amonia']\n",
    "df_poluicao['ozonio'] = dicionario_poluicao['ozonio']"
   ]
  },
  {
   "cell_type": "code",
   "execution_count": 141,
   "id": "08211cf0",
   "metadata": {},
   "outputs": [],
   "source": [
    "df_poluicao.columns.name = 'id'\n",
    "df_poluicao = df_poluicao.rename(columns={0:'Data'})"
   ]
  },
  {
   "cell_type": "code",
   "execution_count": 142,
   "id": "23fe2533",
   "metadata": {},
   "outputs": [
    {
     "data": {
      "text/html": [
       "<div>\n",
       "<style scoped>\n",
       "    .dataframe tbody tr th:only-of-type {\n",
       "        vertical-align: middle;\n",
       "    }\n",
       "\n",
       "    .dataframe tbody tr th {\n",
       "        vertical-align: top;\n",
       "    }\n",
       "\n",
       "    .dataframe thead th {\n",
       "        text-align: right;\n",
       "    }\n",
       "</style>\n",
       "<table border=\"1\" class=\"dataframe\">\n",
       "  <thead>\n",
       "    <tr style=\"text-align: right;\">\n",
       "      <th>id</th>\n",
       "      <th>Data</th>\n",
       "      <th>monoxido_de_carbono</th>\n",
       "      <th>nitrogenio_monoxido</th>\n",
       "      <th>Amonia</th>\n",
       "      <th>ozonio</th>\n",
       "    </tr>\n",
       "  </thead>\n",
       "  <tbody>\n",
       "    <tr>\n",
       "      <th>0</th>\n",
       "      <td>04/10/2022 - 16:00:00</td>\n",
       "      <td>494.00</td>\n",
       "      <td>4.46</td>\n",
       "      <td>128.75</td>\n",
       "      <td>1.98</td>\n",
       "    </tr>\n",
       "    <tr>\n",
       "      <th>1</th>\n",
       "      <td>04/10/2022 - 17:00:00</td>\n",
       "      <td>540.73</td>\n",
       "      <td>5.57</td>\n",
       "      <td>155.93</td>\n",
       "      <td>2.57</td>\n",
       "    </tr>\n",
       "    <tr>\n",
       "      <th>2</th>\n",
       "      <td>04/10/2022 - 18:00:00</td>\n",
       "      <td>594.14</td>\n",
       "      <td>9.85</td>\n",
       "      <td>155.93</td>\n",
       "      <td>2.72</td>\n",
       "    </tr>\n",
       "    <tr>\n",
       "      <th>3</th>\n",
       "      <td>04/10/2022 - 19:00:00</td>\n",
       "      <td>580.79</td>\n",
       "      <td>15.42</td>\n",
       "      <td>114.44</td>\n",
       "      <td>2.47</td>\n",
       "    </tr>\n",
       "    <tr>\n",
       "      <th>4</th>\n",
       "      <td>04/10/2022 - 20:00:00</td>\n",
       "      <td>487.33</td>\n",
       "      <td>16.11</td>\n",
       "      <td>67.23</td>\n",
       "      <td>2.28</td>\n",
       "    </tr>\n",
       "    <tr>\n",
       "      <th>5</th>\n",
       "      <td>04/10/2022 - 21:00:00</td>\n",
       "      <td>380.52</td>\n",
       "      <td>13.02</td>\n",
       "      <td>38.62</td>\n",
       "      <td>2.12</td>\n",
       "    </tr>\n",
       "    <tr>\n",
       "      <th>6</th>\n",
       "      <td>04/10/2022 - 22:00:00</td>\n",
       "      <td>317.10</td>\n",
       "      <td>10.37</td>\n",
       "      <td>27.18</td>\n",
       "      <td>1.73</td>\n",
       "    </tr>\n",
       "    <tr>\n",
       "      <th>7</th>\n",
       "      <td>04/10/2022 - 23:00:00</td>\n",
       "      <td>290.39</td>\n",
       "      <td>9.00</td>\n",
       "      <td>22.17</td>\n",
       "      <td>1.36</td>\n",
       "    </tr>\n",
       "  </tbody>\n",
       "</table>\n",
       "</div>"
      ],
      "text/plain": [
       "id                   Data  monoxido_de_carbono  nitrogenio_monoxido  Amonia  \\\n",
       "0   04/10/2022 - 16:00:00               494.00                 4.46  128.75   \n",
       "1   04/10/2022 - 17:00:00               540.73                 5.57  155.93   \n",
       "2   04/10/2022 - 18:00:00               594.14                 9.85  155.93   \n",
       "3   04/10/2022 - 19:00:00               580.79                15.42  114.44   \n",
       "4   04/10/2022 - 20:00:00               487.33                16.11   67.23   \n",
       "5   04/10/2022 - 21:00:00               380.52                13.02   38.62   \n",
       "6   04/10/2022 - 22:00:00               317.10                10.37   27.18   \n",
       "7   04/10/2022 - 23:00:00               290.39                 9.00   22.17   \n",
       "\n",
       "id  ozonio  \n",
       "0     1.98  \n",
       "1     2.57  \n",
       "2     2.72  \n",
       "3     2.47  \n",
       "4     2.28  \n",
       "5     2.12  \n",
       "6     1.73  \n",
       "7     1.36  "
      ]
     },
     "execution_count": 142,
     "metadata": {},
     "output_type": "execute_result"
    }
   ],
   "source": [
    "df_poluicao"
   ]
  },
  {
   "cell_type": "code",
   "execution_count": null,
   "id": "2f5bd833",
   "metadata": {},
   "outputs": [],
   "source": [
    "df_poluicao.to_excel(r'')"
   ]
  }
 ],
 "metadata": {
  "kernelspec": {
   "display_name": "Python 3 (ipykernel)",
   "language": "python",
   "name": "python3"
  },
  "language_info": {
   "codemirror_mode": {
    "name": "ipython",
    "version": 3
   },
   "file_extension": ".py",
   "mimetype": "text/x-python",
   "name": "python",
   "nbconvert_exporter": "python",
   "pygments_lexer": "ipython3",
   "version": "3.9.12"
  }
 },
 "nbformat": 4,
 "nbformat_minor": 5
}
